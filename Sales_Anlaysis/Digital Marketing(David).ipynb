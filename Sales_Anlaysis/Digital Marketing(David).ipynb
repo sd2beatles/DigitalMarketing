{
 "cells": [
  {
   "cell_type": "code",
   "execution_count": 72,
   "id": "fa388a30",
   "metadata": {},
   "outputs": [],
   "source": [
    "import pandas as pd\n",
    "import numpy as np\n",
    "import matplotlib.pyplot as plt\n",
    "import os"
   ]
  },
  {
   "cell_type": "code",
   "execution_count": 73,
   "id": "408f7ddd",
   "metadata": {},
   "outputs": [],
   "source": [
    "os.chdir(r\"C:\\Users\\sd4be\\Downloads\\example\")"
   ]
  },
  {
   "cell_type": "code",
   "execution_count": 74,
   "id": "69e0266f",
   "metadata": {},
   "outputs": [],
   "source": [
    "path=r\"C:\\Users\\sd4be\\Downloads\\example\"\n",
    "file='example.csv'\n",
    "\n",
    "data=pd.read_csv(\"example.csv\")"
   ]
  },
  {
   "cell_type": "code",
   "execution_count": 75,
   "id": "33a636ca",
   "metadata": {},
   "outputs": [],
   "source": [
    "#data['공급 일자 및 시각']=data['공급일자']+' '+data['구매시각']\n",
    "#data.drop(columns=['공급일자','구매시각','연령대'],inplace=True)\n",
    "#data.to_csv(os.path.join(path,file))"
   ]
  },
  {
   "cell_type": "code",
   "execution_count": 76,
   "id": "44ae0e84",
   "metadata": {},
   "outputs": [],
   "source": [
    "data.columns\n",
    "\n",
    "columns={\n",
    "    '공급 일자 및 시각':'stamp',\n",
    "    '요일':'day',\n",
    "    '공급월':'month',\n",
    "    '공급주차':'week',\n",
    "    '회원번호':'id',\n",
    "    '조합원상태':'member',\n",
    "    '물품대분류':'category_L',\n",
    "    '물품중분류':'category_M',\n",
    "    '물품소분류':'category_S',\n",
    "    '물품명':'name',\n",
    "    '구매수량':'quant',\n",
    "    '주소-구':'district',\n",
    "    '주소-동':'neighborhood',\n",
    "    '성별':'gender',\n",
    "    '연령':'age',\n",
    "    '구매금액':'amount',\n",
    "    '구매매장':'branch',\n",
    "    '반품_원거래일자':'refund_date'\n",
    "}\n",
    "\n",
    "\n",
    "data.rename(columns=columns,inplace=True)\n",
    "data.drop('Unnamed: 0',axis=1,inplace=True)\n"
   ]
  },
  {
   "cell_type": "markdown",
   "id": "11bf8bef",
   "metadata": {},
   "source": [
    "### 1. Preprocessing (전처리)"
   ]
  },
  {
   "cell_type": "markdown",
   "id": "3128f1e6",
   "metadata": {},
   "source": [
    "### 1. Handling Column(age) \n",
    "\n",
    "### 1.1 Filling Missing Values"
   ]
  },
  {
   "cell_type": "code",
   "execution_count": 77,
   "id": "53081190",
   "metadata": {},
   "outputs": [
    {
     "name": "stdout",
     "output_type": "stream",
     "text": [
      "# of null values 533\n",
      "% of null values 0.000755416534976636\n"
     ]
    }
   ],
   "source": [
    "# create age groups \n",
    "data.age.describe().astype(int)\n",
    "\n",
    "random_index=np.random.randint(0,len(data),500)\n",
    "data.loc[random_index,'age']=np.nan\n",
    "\n",
    "print(\"# of null values\",data.age.isnull().sum())\n",
    "print(\"% of null values\",data.age.isnull().sum()/data.shape[0])\n",
    "\n",
    "#plt.boxplot(data.age)"
   ]
  },
  {
   "cell_type": "code",
   "execution_count": 78,
   "id": "c992d937",
   "metadata": {},
   "outputs": [],
   "source": [
    "missing_ids=data[data.age.isna()]['id'].unique().tolist()\n",
    "condition=(data.id.isin(missing_ids))&(data.age.notnull())\n",
    "ages=data.loc[condition,['id','age']].drop_duplicates()\n",
    "data=data.merge(ages,on='id',how='left')"
   ]
  },
  {
   "cell_type": "code",
   "execution_count": 79,
   "id": "cb98a009",
   "metadata": {},
   "outputs": [],
   "source": [
    "data.age_x.fillna(data.age_y,inplace=True)\n",
    "data=data.drop(columns='age_y')\n",
    "data=data.rename(columns={'age_x':'age'})\n",
    "data=data[data.age.notnull()]"
   ]
  },
  {
   "cell_type": "markdown",
   "id": "1116d1ba",
   "metadata": {},
   "source": [
    "### 1.2 Create Age Groups"
   ]
  },
  {
   "cell_type": "code",
   "execution_count": 80,
   "id": "fcb981f2",
   "metadata": {},
   "outputs": [],
   "source": [
    "def create_group(x):\n",
    "    if x<20:\n",
    "        return \"10's\"\n",
    "    elif x<30:\n",
    "        return \"20's\"\n",
    "    elif x<40:\n",
    "        return \"30's\"\n",
    "    elif x<50:\n",
    "        return \"40's\"\n",
    "    elif x<60:\n",
    "        return \"50's\"\n",
    "    elif x<70:\n",
    "        return \"60's\"\n",
    "    else:\n",
    "        return \"over 70's\"\n",
    "\n",
    "data['age_group']=data.age.map(lambda x:create_group(x))    "
   ]
  },
  {
   "cell_type": "markdown",
   "id": "4cf43034",
   "metadata": {},
   "source": [
    "### 2. Analysis"
   ]
  },
  {
   "cell_type": "markdown",
   "id": "1e65a382",
   "metadata": {},
   "source": [
    "### 2.1  Purchase Amount by Groups"
   ]
  },
  {
   "cell_type": "code",
   "execution_count": 81,
   "id": "fe6f8e13",
   "metadata": {},
   "outputs": [],
   "source": [
    "columns=['id','age_group']\n",
    "by=['amount','quant']\n",
    "age_groups=data.groupby(columns)[by].sum().reset_index()"
   ]
  },
  {
   "cell_type": "code",
   "execution_count": 82,
   "id": "90df3eb2",
   "metadata": {},
   "outputs": [
    {
     "data": {
      "text/html": [
       "<div>\n",
       "<style scoped>\n",
       "    .dataframe tbody tr th:only-of-type {\n",
       "        vertical-align: middle;\n",
       "    }\n",
       "\n",
       "    .dataframe tbody tr th {\n",
       "        vertical-align: top;\n",
       "    }\n",
       "\n",
       "    .dataframe thead th {\n",
       "        text-align: right;\n",
       "    }\n",
       "</style>\n",
       "<table border=\"1\" class=\"dataframe\">\n",
       "  <thead>\n",
       "    <tr style=\"text-align: right;\">\n",
       "      <th></th>\n",
       "      <th>items</th>\n",
       "      <th>amount</th>\n",
       "      <th>quant</th>\n",
       "    </tr>\n",
       "    <tr>\n",
       "      <th>age_group</th>\n",
       "      <th>agg_function</th>\n",
       "      <th></th>\n",
       "      <th></th>\n",
       "    </tr>\n",
       "  </thead>\n",
       "  <tbody>\n",
       "    <tr>\n",
       "      <th rowspan=\"2\" valign=\"top\">10's</th>\n",
       "      <th>mean</th>\n",
       "      <td>4.661505e+05</td>\n",
       "      <td>61.75</td>\n",
       "    </tr>\n",
       "    <tr>\n",
       "      <th>sum</th>\n",
       "      <td>9.323010e+05</td>\n",
       "      <td>123.50</td>\n",
       "    </tr>\n",
       "    <tr>\n",
       "      <th rowspan=\"2\" valign=\"top\">20's</th>\n",
       "      <th>mean</th>\n",
       "      <td>6.677867e+05</td>\n",
       "      <td>72.49</td>\n",
       "    </tr>\n",
       "    <tr>\n",
       "      <th>sum</th>\n",
       "      <td>2.938262e+07</td>\n",
       "      <td>3189.70</td>\n",
       "    </tr>\n",
       "    <tr>\n",
       "      <th rowspan=\"2\" valign=\"top\">30's</th>\n",
       "      <th>mean</th>\n",
       "      <td>5.066273e+05</td>\n",
       "      <td>57.69</td>\n",
       "    </tr>\n",
       "    <tr>\n",
       "      <th>sum</th>\n",
       "      <td>1.017814e+09</td>\n",
       "      <td>115908.36</td>\n",
       "    </tr>\n",
       "    <tr>\n",
       "      <th rowspan=\"2\" valign=\"top\">40's</th>\n",
       "      <th>mean</th>\n",
       "      <td>6.570078e+05</td>\n",
       "      <td>69.59</td>\n",
       "    </tr>\n",
       "    <tr>\n",
       "      <th>sum</th>\n",
       "      <td>2.876380e+09</td>\n",
       "      <td>304643.92</td>\n",
       "    </tr>\n",
       "    <tr>\n",
       "      <th rowspan=\"2\" valign=\"top\">50's</th>\n",
       "      <th>mean</th>\n",
       "      <td>8.174634e+05</td>\n",
       "      <td>80.80</td>\n",
       "    </tr>\n",
       "    <tr>\n",
       "      <th>sum</th>\n",
       "      <td>2.020769e+09</td>\n",
       "      <td>199739.16</td>\n",
       "    </tr>\n",
       "    <tr>\n",
       "      <th rowspan=\"2\" valign=\"top\">60's</th>\n",
       "      <th>mean</th>\n",
       "      <td>7.521932e+05</td>\n",
       "      <td>77.12</td>\n",
       "    </tr>\n",
       "    <tr>\n",
       "      <th>sum</th>\n",
       "      <td>1.077893e+09</td>\n",
       "      <td>110515.42</td>\n",
       "    </tr>\n",
       "    <tr>\n",
       "      <th rowspan=\"2\" valign=\"top\">over 70's</th>\n",
       "      <th>mean</th>\n",
       "      <td>7.903148e+05</td>\n",
       "      <td>79.96</td>\n",
       "    </tr>\n",
       "    <tr>\n",
       "      <th>sum</th>\n",
       "      <td>6.812513e+08</td>\n",
       "      <td>68926.75</td>\n",
       "    </tr>\n",
       "  </tbody>\n",
       "</table>\n",
       "</div>"
      ],
      "text/plain": [
       "items                         amount      quant\n",
       "age_group agg_function                         \n",
       "10's      mean          4.661505e+05      61.75\n",
       "          sum           9.323010e+05     123.50\n",
       "20's      mean          6.677867e+05      72.49\n",
       "          sum           2.938262e+07    3189.70\n",
       "30's      mean          5.066273e+05      57.69\n",
       "          sum           1.017814e+09  115908.36\n",
       "40's      mean          6.570078e+05      69.59\n",
       "          sum           2.876380e+09  304643.92\n",
       "50's      mean          8.174634e+05      80.80\n",
       "          sum           2.020769e+09  199739.16\n",
       "60's      mean          7.521932e+05      77.12\n",
       "          sum           1.077893e+09  110515.42\n",
       "over 70's mean          7.903148e+05      79.96\n",
       "          sum           6.812513e+08   68926.75"
      ]
     },
     "execution_count": 82,
     "metadata": {},
     "output_type": "execute_result"
    }
   ],
   "source": [
    "statics=pd.pivot_table(age_groups,index='age_group',values=['amount','quant'],aggfunc=['sum','mean']).round(2)\n",
    "statics.columns.rename(['agg_function','items'],inplace=True)\n",
    "statics.stack('agg_function')"
   ]
  },
  {
   "cell_type": "markdown",
   "id": "19b8004f",
   "metadata": {},
   "source": [
    "The pivot table displays the amount of purchaases of each group in our sample. However, the numer iteself is a little confusing for the comparing purpose. We better find a better approach to transform the display so that it becomre more readable to the users of this data source. "
   ]
  },
  {
   "cell_type": "code",
   "execution_count": 83,
   "id": "7dcac49b",
   "metadata": {},
   "outputs": [],
   "source": [
    "purchase_values=pd.concat([statics[('sum', 'amount')]/statics[('sum','amount')].sum()*100,statics[('sum','amount')]],axis=1)\n",
    "purchase_values=purchase_values.round(2)\n",
    "purchase_values.columns=['percent','value']\n",
    "purchase_values.percent=purchase_values.percent.astype(str)\n",
    "purchase_values.percent=purchase_values.percent+' %'"
   ]
  },
  {
   "cell_type": "code",
   "execution_count": 84,
   "id": "a1ebc765",
   "metadata": {},
   "outputs": [
    {
     "data": {
      "text/html": [
       "<div>\n",
       "<style scoped>\n",
       "    .dataframe tbody tr th:only-of-type {\n",
       "        vertical-align: middle;\n",
       "    }\n",
       "\n",
       "    .dataframe tbody tr th {\n",
       "        vertical-align: top;\n",
       "    }\n",
       "\n",
       "    .dataframe thead th {\n",
       "        text-align: right;\n",
       "    }\n",
       "</style>\n",
       "<table border=\"1\" class=\"dataframe\">\n",
       "  <thead>\n",
       "    <tr style=\"text-align: right;\">\n",
       "      <th></th>\n",
       "      <th>percent</th>\n",
       "      <th>value</th>\n",
       "    </tr>\n",
       "    <tr>\n",
       "      <th>age_group</th>\n",
       "      <th></th>\n",
       "      <th></th>\n",
       "    </tr>\n",
       "  </thead>\n",
       "  <tbody>\n",
       "    <tr>\n",
       "      <th>10's</th>\n",
       "      <td>0.01 %</td>\n",
       "      <td>932301</td>\n",
       "    </tr>\n",
       "    <tr>\n",
       "      <th>20's</th>\n",
       "      <td>0.38 %</td>\n",
       "      <td>29382616</td>\n",
       "    </tr>\n",
       "    <tr>\n",
       "      <th>30's</th>\n",
       "      <td>13.21 %</td>\n",
       "      <td>1017814272</td>\n",
       "    </tr>\n",
       "    <tr>\n",
       "      <th>40's</th>\n",
       "      <td>37.33 %</td>\n",
       "      <td>2876380009</td>\n",
       "    </tr>\n",
       "    <tr>\n",
       "      <th>50's</th>\n",
       "      <td>26.23 %</td>\n",
       "      <td>2020769486</td>\n",
       "    </tr>\n",
       "    <tr>\n",
       "      <th>60's</th>\n",
       "      <td>13.99 %</td>\n",
       "      <td>1077892822</td>\n",
       "    </tr>\n",
       "    <tr>\n",
       "      <th>over 70's</th>\n",
       "      <td>8.84 %</td>\n",
       "      <td>681251328</td>\n",
       "    </tr>\n",
       "  </tbody>\n",
       "</table>\n",
       "</div>"
      ],
      "text/plain": [
       "           percent       value\n",
       "age_group                     \n",
       "10's        0.01 %      932301\n",
       "20's        0.38 %    29382616\n",
       "30's       13.21 %  1017814272\n",
       "40's       37.33 %  2876380009\n",
       "50's       26.23 %  2020769486\n",
       "60's       13.99 %  1077892822\n",
       "over 70's   8.84 %   681251328"
      ]
     },
     "execution_count": 84,
     "metadata": {},
     "output_type": "execute_result"
    }
   ],
   "source": [
    "purchase_values"
   ]
  },
  {
   "cell_type": "markdown",
   "id": "245465e9",
   "metadata": {},
   "source": [
    "### 2.2  split group"
   ]
  },
  {
   "cell_type": "code",
   "execution_count": 85,
   "id": "d25fb091",
   "metadata": {},
   "outputs": [],
   "source": [
    "active=data[data.member=='정상회원']\n",
    "inactive=data[data.member!='정상회원']"
   ]
  },
  {
   "cell_type": "markdown",
   "id": "76c8aa7f",
   "metadata": {},
   "source": [
    "### 2.3 Total Purchase"
   ]
  },
  {
   "cell_type": "code",
   "execution_count": 94,
   "id": "44076075",
   "metadata": {},
   "outputs": [
    {
     "data": {
      "text/plain": [
       "([<matplotlib.patches.Wedge at 0x2bcf1de1880>,\n",
       "  <matplotlib.patches.Wedge at 0x2bcf1def250>],\n",
       " [Text(-1.0989440748913437, 0.04818630781880795, 'Active'),\n",
       "  Text(1.5984641044213326, -0.07008927789974521, 'Inactive')],\n",
       " [Text(-0.5994240408498238, 0.026283440628440697, '98.6%'),\n",
       "  Text(1.0989440717896661, -0.04818637855607483, '1.4%')])"
      ]
     },
     "execution_count": 94,
     "metadata": {},
     "output_type": "execute_result"
    },
    {
     "data": {
      "image/png": "[encoded data removed]",
      "text/plain": [
       "<Figure size 432x288 with 1 Axes>"
      ]
     },
     "metadata": {},
     "output_type": "display_data"
    }
   ],
   "source": [
    "ratio=[len(active)/data.shape[0],len(inactive)/data.shape[0]]\n",
    "labels=['Active','Inactive']\n",
    "colors=['green','orange']\n",
    "explode=[0,0.5]\n",
    "plt.pie(ratio,labels=labels,explode=explode,colors=colors,autopct='%.1f%%',shadow=True)"
   ]
  },
  {
   "cell_type": "markdown",
   "id": "fe984c9c",
   "metadata": {},
   "source": [
    "Those who withdraw from the membership only count for 1.4 % of the total proportion. The number itself can be relatively small in the retail sector. However, it is worthwhile to compute the distribution of age groups according to the membership status so that we find groups from which the majority of withdrawal comes."
   ]
  },
  {
   "cell_type": "code",
   "execution_count": 87,
   "id": "25efcd24",
   "metadata": {
    "scrolled": true
   },
   "outputs": [],
   "source": [
    "columns=['id','age_group']\n",
    "\n",
    "stat_act=active.groupby(columns)['amount'].sum()\n",
    "stat_act=stat_act.reset_index()\n",
    "stat_act=stat_act.groupby(\"age_group\")['amount'].sum()\n",
    "percent_act=stat_act/stat_act.sum()*100\n",
    "percent_act=percent_act.round(2).astype(str)+' %'\n",
    "\n",
    "\n",
    "stat_inact=inactive.groupby(columns)['amount'].sum()\n",
    "stat_inact=stat_inact.reset_index()\n",
    "stat_inact=stat_inact.groupby(\"age_group\")['amount'].sum()\n",
    "percent=stat_inact/stat_inact.sum()*100\n",
    "percent=percent.round(2).astype(str)+' %'\n",
    "\n",
    "results=pd.concat([percent_act,percent],axis=1)\n",
    "results.columns=['active','inactive']"
   ]
  },
  {
   "cell_type": "markdown",
   "id": "e817ba06",
   "metadata": {},
   "source": [
    "Still, consumers aged between 40 and '50s are the big spenders. The groups account for almost 80 % of the total proportion. However, the higher number of withdrawal membership comes from the '30s and '40s having a strong purchasing power. We need to take a further analysis on these groups to see if the number occurs by chance. \n"
   ]
  },
  {
   "cell_type": "markdown",
   "id": "a6c19eea",
   "metadata": {},
   "source": [
    "### 2.4 gender"
   ]
  },
  {
   "cell_type": "code",
   "execution_count": 88,
   "id": "eac457a2",
   "metadata": {},
   "outputs": [
    {
     "name": "stdout",
     "output_type": "stream",
     "text": [
      "day- max_length: 1\n",
      "member- max_length: 5\n",
      "category_L- max_length: 3\n",
      "category_M- max_length: 3\n",
      "category_S- max_length: 2\n",
      "name- max_length: 9\n",
      "district- max_length: 2\n",
      "neighborhood- max_length: 4\n",
      "gender- max_length: 1\n",
      "branch- max_length: 3\n",
      "stamp- max_length: 16\n",
      "age_group- max_length: 9\n"
     ]
    }
   ],
   "source": [
    "for c in data.select_dtypes('object').columns:\n",
    "    max_length=len(max(data.loc[:,c].dropna()))\n",
    "    print(\"{}- max_length: {}\".format(c,max_length))\n",
    "    "
   ]
  },
  {
   "cell_type": "markdown",
   "id": "8b46ac1a",
   "metadata": {},
   "source": [
    "##  3. Transfer data to MySQL datdabase\n",
    "\n",
    "First,create a table named Retails by wrting a simple query. \n",
    "\n",
    "\n",
    "\n",
    "```sql\n",
    "CREATE TABLE IF NOT EXISTS Retail (\n",
    "   id int unsigned not null,\n",
    "   member varchar(6),\n",
    "   category_L varchar(50),\n",
    "   category_M varchar(50),\n",
    "   category_S varchar(50),\n",
    "   quant smallint,\n",
    "   amount numeric,\n",
    "   name varchar(50),\n",
    "   district varchar(50)\n",
    "   neighborhood varchar(50),\n",
    "   gender varchar(50),\n",
    "   branch varchar(50),\n",
    "   stamp varchar(50),\n",
    "   age_group varchar(50)\n",
    ");\n",
    "```\n",
    "\n",
    "Next,we need to transfer all the data to the newly created table using pymysql.The code will be displayed as below. "
   ]
  },
  {
   "cell_type": "code",
   "execution_count": 89,
   "id": "0b4dd0fc",
   "metadata": {},
   "outputs": [],
   "source": [
    "import pymysql\n",
    "config={\n",
    "    'host':'127.0.0.1',\n",
    "    'port':3306,\n",
    "    'username':'root',\n",
    "    'database':'sector_01',\n",
    "    'password':'root1!'\n",
    "}\n",
    "\n",
    "def check_db_info(db_info):\n",
    "    try:\n",
    "        conn=pymysql.connect(\n",
    "            host=db_info['host'],\n",
    "            port=int(db_info['port']),\n",
    "            user=db_info['username'],\n",
    "            database=db_info['database'],\n",
    "            passwd=db_info['password'],\n",
    "            use_unicode=True,\n",
    "            charset='utf8')\n",
    "        cursor=conn.cursor()\n",
    "        return conn,cursor\n",
    "    except:\n",
    "        raise ValueError\n",
    "        \n",
    "\n",
    "def insert_row(cursor,data,table):\n",
    "    assert type(data)==dict\n",
    "\n",
    "    placeholder=','.join(['%s']*len(data))\n",
    "    fields=','.join(data.keys())\n",
    "    key_placeholder=','.join(['{}=%s'.format(col) for col in data.keys()])\n",
    "    sql='INSERT INTO %s (%s) VALUES (%s) ON DUPLICATE KEY UPDATE %s' %(table,fields,placeholder,key_placeholder)\n",
    "\n",
    "    cursor.execute(sql,list(data.values())*2)\n",
    "\n",
    "        \n",
    "conn,cursor=check_db_info(config)"
   ]
  },
  {
   "cell_type": "code",
   "execution_count": 91,
   "id": "defcc520",
   "metadata": {},
   "outputs": [
    {
     "name": "stderr",
     "output_type": "stream",
     "text": [
      "C:\\Users\\sd4be\\AppData\\Local\\Temp/ipykernel_5704/1415695632.py:20: UserWarning: DataFrame columns are not unique, some columns will be omitted.\n",
      "  active_dict=active.to_dict('records')\n"
     ]
    }
   ],
   "source": [
    "ids=['id','member',\n",
    "     'category_L',\n",
    "     'category_M',\n",
    "     'category_S',\n",
    "     'quant',\n",
    "     'name',\n",
    "     'district',\n",
    "     'neighborhood',\n",
    "     'gender',\n",
    "     'branch',\n",
    "     'stamp',\n",
    "     'age_group',\n",
    "     'amount',\n",
    "     'quant']\n",
    "\n",
    "\n",
    "\n",
    "active = active.where((pd.notnull(active)), None)\n",
    "active=active.loc[:,ids]\n",
    "active_dict=active.to_dict('records')\n",
    "\n",
    "\n"
   ]
  },
  {
   "cell_type": "code",
   "execution_count": 92,
   "id": "ad89869d",
   "metadata": {},
   "outputs": [],
   "source": [
    "conn,cursor=check_db_info(config)\n",
    "for d in active_dict[4000:]:\n",
    "    insert_row(cursor=cursor,data=d,table='Retail')\n",
    "conn.commit()\n",
    "conn.close()"
   ]
  },
  {
   "attachments": {
    "image-2.png": {
     "image/png": "[encoded data removed]"
    },
    "image-3.png": {
     "image/png": "[encoded data removed]"
    },
    "image.png": {
     "image/png": "[encoded data removed]"
    }
   },
   "cell_type": "markdown",
   "id": "d397204b",
   "metadata": {},
   "source": [
    "### 3.1 RFM Analysis\n",
    "\n",
    "The following code will let us prepare a dataframe with three features\n",
    "\n",
    "```sql\n",
    "WITH purchase_log AS (\n",
    "  SELECT id AS user_id, \n",
    "\t\t substring(stamp,1,10) AS dt,\n",
    "         sum(amount) AS amount\n",
    "         FROM Retail\n",
    "         GROUP BY user_id,dt)\n",
    "  ,statistics AS(\n",
    "  SELECT  user_id,\n",
    "\t\t  datediff(cast(max(max(dt)) over() as date),cast(max(dt) as date)) AS recency,\n",
    "\t\t  count(dt) AS frequency,\n",
    "          sum(amount) AS monetary\n",
    "          FROM purchase_log\n",
    "          GROUP BY user_id)\n",
    ",rfm_ranks as(\n",
    "  SELECT user_id,\n",
    "         recency,\n",
    "         frequency,\n",
    "         monetary,\n",
    "         CASE WHEN recency <=36 THEN 1 \n",
    "              WHEN recency <=72 THEN 2\n",
    "              WHEN recency <=108 THEN 3\n",
    "              WHEN recency <=144 THEN 4\n",
    "              ELSE 5 END AS r,\n",
    "\t\tCASE WHEN frequency<=30 THEN 1\n",
    "             WHEN frequency<=60 THEN 2\n",
    "             WHEN frequency<=90 THEN 3\n",
    "             when frequency<=120 then 4\n",
    "             ELSE 5 END AS f,\n",
    "\t    CASE WHEN monetary<=30000000/5 THEN 1\n",
    "             WHEN monetary<=30000000/4 THEN 2\n",
    "             WHEN monetary<=30000000/3 THEN 3\n",
    "             WHEN monetary<=30000000/2 THEN 4\n",
    "             ELSE 5 END AS m\n",
    "\t\tFROM statistics)\n",
    "\t,mst_rfm_index as(\n",
    "\tSELECT 1 AS rfm_index\n",
    "    UNION ALL SELECT 2 AS rfm_index\n",
    "    UNION ALL SELECT 3 AS rfm_index\n",
    "    UNION ALL SELECT 4 AS rfm_index\n",
    "    UNION ALL SELECT 5 AS rfm_index\n",
    "    )\n",
    "    ,rfm_flag AS(\n",
    "    SELECT m.rfm_index,\n",
    "           CASE WHEN m.rfm_index=r.r THEN 1 END AS r_flag,\n",
    "\t\t   CASE WHEN m.rfm_index=r.f THEN 1 END AS f_flag,\n",
    "           CASE WHEN m.rfm_index=r.m THEN 1 END AS m_flag\n",
    "     from mst_rfm_index as m\n",
    "     cross join rfm_ranks as r)\n",
    "   SELECT  rfm_index,\n",
    "           SUM(r_flag) AS r,\n",
    "\t\t   SUM(f_flag) AS f,\n",
    "           SUM(m_flag) AS m\n",
    "           FROM rfm_flag\n",
    "           GROUP BY rfm_index;\n",
    "```\n",
    "\n",
    "![image.png](attachment:image.png)\n",
    "\n",
    "It seems to be hassle finding the pattern of consumers with dataframe with three-dimensional. Let's make a little modification on our table so that we can esialy get an inisight from the result in hand. Here, we will try out preparing dataframew with smaller dimensions just like dimension reduction. \n",
    "\n",
    "\n",
    "### 3.1.2 Dataframe with the only one diemnsion\n",
    "\n",
    "```sql\n",
    "WITH purchase_log AS (\n",
    "  SELECT id AS user_id, \n",
    "\t\t substring(stamp,1,10) AS dt,\n",
    "         sum(amount) AS amount\n",
    "         FROM Retail\n",
    "         GROUP BY user_id,dt)\n",
    "  ,statistics AS(\n",
    "  SELECT  user_id,\n",
    "\t\t  datediff(cast(max(max(dt)) over() as date),cast(max(dt) as date)) AS recency,\n",
    "\t\t  count(dt) AS frequency,\n",
    "          sum(amount) AS monetary\n",
    "          FROM purchase_log\n",
    "          GROUP BY user_id)\n",
    ",rfm_ranks as(\n",
    "  SELECT user_id,\n",
    "         recency,\n",
    "         frequency,\n",
    "         monetary,\n",
    "         CASE WHEN recency <=36 THEN 1 \n",
    "              WHEN recency <=72 THEN 2\n",
    "              WHEN recency <=108 THEN 3\n",
    "              WHEN recency <=144 THEN 4\n",
    "              ELSE 5 END AS r,\n",
    "\t\tCASE WHEN frequency<=30 THEN 1\n",
    "             WHEN frequency<=60 THEN 2\n",
    "             WHEN frequency<=90 THEN 3\n",
    "             when frequency<=120 then 4\n",
    "             ELSE 5 END AS f,\n",
    "\t    CASE WHEN monetary<=30000000/5 THEN 1\n",
    "             WHEN monetary<=30000000/4 THEN 2\n",
    "             WHEN monetary<=30000000/3 THEN 3\n",
    "             WHEN monetary<=30000000/2 THEN 4\n",
    "             ELSE 5 END AS m\n",
    "\t\tFROM statistics)\n",
    "\tSELECT r+f+m AS total_ranks,\n",
    "\t\t   COUNT(user_id) AS counts\n",
    "           FROM rfm_ranks\n",
    "           GROUP BY total_ranks\n",
    "           ORDER BY total_ranks DESC;\n",
    "```\n",
    "\n",
    "![image-2.png](attachment:image-2.png)\n",
    "\n",
    "### 3.1.2 Dataframe with Two dimensions\n",
    "\n",
    "```sql\n",
    "WITH purchase_log AS (\n",
    "  SELECT id AS user_id, \n",
    "\t\t substring(stamp,1,10) AS dt,\n",
    "         sum(amount) AS amount\n",
    "         FROM Retail\n",
    "         GROUP BY user_id,dt)\n",
    "  ,statistics AS(\n",
    "  SELECT  user_id,\n",
    "\t\t  datediff(cast(max(max(dt)) over() as date),cast(max(dt) as date)) AS recency,\n",
    "\t\t  count(dt) AS frequency,\n",
    "          sum(amount) AS monetary\n",
    "          FROM purchase_log\n",
    "          GROUP BY user_id)\n",
    ",rfm_ranks as(\n",
    "  SELECT user_id,\n",
    "         recency,\n",
    "         frequency,\n",
    "         monetary,\n",
    "         CASE WHEN recency <=36 THEN 1 \n",
    "              WHEN recency <=72 THEN 2\n",
    "              WHEN recency <=108 THEN 3\n",
    "              WHEN recency <=144 THEN 4\n",
    "              ELSE 5 END AS r,\n",
    "\t\tCASE WHEN frequency<=30 THEN 1\n",
    "             WHEN frequency<=60 THEN 2\n",
    "             WHEN frequency<=90 THEN 3\n",
    "             when frequency<=120 then 4\n",
    "             ELSE 5 END AS f,\n",
    "\t    CASE WHEN monetary<=30000000/5 THEN 1\n",
    "             WHEN monetary<=30000000/4 THEN 2\n",
    "             WHEN monetary<=30000000/3 THEN 3\n",
    "             WHEN monetary<=30000000/2 THEN 4\n",
    "             ELSE 5 END AS m\n",
    "\t\tFROM statistics)\n",
    "   SELECT CONCAT('r',r) AS r_rank,\n",
    "\t\tCOUNT(CASE WHEN f=5 THEN 1 END) AS f_5,\n",
    "\t\tCOUNT(CASE WHEN f=4 THEN 1 END) AS f_4,\n",
    "\t\tCOUNT(CASE WHEN f=3 THEN 1 END) AS f_3,\n",
    "\t\tCOUNT(CASE WHEN f=2 THEN 1 END) AS f_2,\n",
    "\t\tCOUNT(CASE WHEN f=1 THEN 1 END) AS f_1\n",
    "        FROM rfm_ranks\n",
    "        GROUP BY r\n",
    "        ORDER BY r_rank DESC;\n",
    "```\n",
    "\n",
    "![image-3.png](attachment:image-3.png)\n"
   ]
  },
  {
   "cell_type": "code",
   "execution_count": null,
   "id": "e534e0a5",
   "metadata": {},
   "outputs": [],
   "source": []
  }
 ],
 "metadata": {
  "kernelspec": {
   "display_name": "Python 3 (ipykernel)",
   "language": "python",
   "name": "python3"
  },
  "language_info": {
   "codemirror_mode": {
    "name": "ipython",
    "version": 3
   },
   "file_extension": ".py",
   "mimetype": "text/x-python",
   "name": "python",
   "nbconvert_exporter": "python",
   "pygments_lexer": "ipython3",
   "version": "3.8.8"
  }
 },
 "nbformat": 4,
 "nbformat_minor": 5
}
